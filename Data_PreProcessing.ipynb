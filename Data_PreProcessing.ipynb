{
 "cells": [
  {
   "cell_type": "code",
   "execution_count": 68,
   "id": "b7cc3ca8",
   "metadata": {},
   "outputs": [],
   "source": [
    "import pandas as pd\n",
    "import numpy as np\n",
    "import seaborn as sns\n",
    "import matplotlib.pyplot as plt\n"
   ]
  },
  {
   "cell_type": "code",
   "execution_count": 2,
   "id": "c34b751e",
   "metadata": {},
   "outputs": [],
   "source": [
    "df = pd.read_csv('Employee.csv')"
   ]
  },
  {
   "cell_type": "code",
   "execution_count": 3,
   "id": "38f3c967",
   "metadata": {},
   "outputs": [
    {
     "data": {
      "text/html": [
       "<div>\n",
       "<style scoped>\n",
       "    .dataframe tbody tr th:only-of-type {\n",
       "        vertical-align: middle;\n",
       "    }\n",
       "\n",
       "    .dataframe tbody tr th {\n",
       "        vertical-align: top;\n",
       "    }\n",
       "\n",
       "    .dataframe thead th {\n",
       "        text-align: right;\n",
       "    }\n",
       "</style>\n",
       "<table border=\"1\" class=\"dataframe\">\n",
       "  <thead>\n",
       "    <tr style=\"text-align: right;\">\n",
       "      <th></th>\n",
       "      <th>Company</th>\n",
       "      <th>Age</th>\n",
       "      <th>Salary</th>\n",
       "      <th>Place</th>\n",
       "      <th>Country</th>\n",
       "      <th>Gender</th>\n",
       "    </tr>\n",
       "  </thead>\n",
       "  <tbody>\n",
       "    <tr>\n",
       "      <th>0</th>\n",
       "      <td>TCS</td>\n",
       "      <td>20.0</td>\n",
       "      <td>NaN</td>\n",
       "      <td>Chennai</td>\n",
       "      <td>India</td>\n",
       "      <td>0</td>\n",
       "    </tr>\n",
       "    <tr>\n",
       "      <th>1</th>\n",
       "      <td>Infosys</td>\n",
       "      <td>30.0</td>\n",
       "      <td>NaN</td>\n",
       "      <td>Mumbai</td>\n",
       "      <td>India</td>\n",
       "      <td>0</td>\n",
       "    </tr>\n",
       "    <tr>\n",
       "      <th>2</th>\n",
       "      <td>TCS</td>\n",
       "      <td>35.0</td>\n",
       "      <td>2300.0</td>\n",
       "      <td>Calcutta</td>\n",
       "      <td>India</td>\n",
       "      <td>0</td>\n",
       "    </tr>\n",
       "    <tr>\n",
       "      <th>3</th>\n",
       "      <td>Infosys</td>\n",
       "      <td>40.0</td>\n",
       "      <td>3000.0</td>\n",
       "      <td>Delhi</td>\n",
       "      <td>India</td>\n",
       "      <td>0</td>\n",
       "    </tr>\n",
       "    <tr>\n",
       "      <th>4</th>\n",
       "      <td>TCS</td>\n",
       "      <td>23.0</td>\n",
       "      <td>4000.0</td>\n",
       "      <td>Mumbai</td>\n",
       "      <td>India</td>\n",
       "      <td>0</td>\n",
       "    </tr>\n",
       "    <tr>\n",
       "      <th>...</th>\n",
       "      <td>...</td>\n",
       "      <td>...</td>\n",
       "      <td>...</td>\n",
       "      <td>...</td>\n",
       "      <td>...</td>\n",
       "      <td>...</td>\n",
       "    </tr>\n",
       "    <tr>\n",
       "      <th>143</th>\n",
       "      <td>TCS</td>\n",
       "      <td>33.0</td>\n",
       "      <td>9024.0</td>\n",
       "      <td>Calcutta</td>\n",
       "      <td>India</td>\n",
       "      <td>1</td>\n",
       "    </tr>\n",
       "    <tr>\n",
       "      <th>144</th>\n",
       "      <td>Infosys</td>\n",
       "      <td>22.0</td>\n",
       "      <td>8787.0</td>\n",
       "      <td>Calcutta</td>\n",
       "      <td>India</td>\n",
       "      <td>1</td>\n",
       "    </tr>\n",
       "    <tr>\n",
       "      <th>145</th>\n",
       "      <td>Infosys</td>\n",
       "      <td>44.0</td>\n",
       "      <td>4034.0</td>\n",
       "      <td>Delhi</td>\n",
       "      <td>India</td>\n",
       "      <td>1</td>\n",
       "    </tr>\n",
       "    <tr>\n",
       "      <th>146</th>\n",
       "      <td>TCS</td>\n",
       "      <td>33.0</td>\n",
       "      <td>5034.0</td>\n",
       "      <td>Mumbai</td>\n",
       "      <td>India</td>\n",
       "      <td>1</td>\n",
       "    </tr>\n",
       "    <tr>\n",
       "      <th>147</th>\n",
       "      <td>Infosys</td>\n",
       "      <td>22.0</td>\n",
       "      <td>8202.0</td>\n",
       "      <td>Cochin</td>\n",
       "      <td>India</td>\n",
       "      <td>0</td>\n",
       "    </tr>\n",
       "  </tbody>\n",
       "</table>\n",
       "<p>148 rows × 6 columns</p>\n",
       "</div>"
      ],
      "text/plain": [
       "     Company   Age  Salary     Place Country  Gender\n",
       "0        TCS  20.0     NaN   Chennai   India       0\n",
       "1    Infosys  30.0     NaN    Mumbai   India       0\n",
       "2        TCS  35.0  2300.0  Calcutta   India       0\n",
       "3    Infosys  40.0  3000.0     Delhi   India       0\n",
       "4        TCS  23.0  4000.0    Mumbai   India       0\n",
       "..       ...   ...     ...       ...     ...     ...\n",
       "143      TCS  33.0  9024.0  Calcutta   India       1\n",
       "144  Infosys  22.0  8787.0  Calcutta   India       1\n",
       "145  Infosys  44.0  4034.0     Delhi   India       1\n",
       "146      TCS  33.0  5034.0    Mumbai   India       1\n",
       "147  Infosys  22.0  8202.0    Cochin   India       0\n",
       "\n",
       "[148 rows x 6 columns]"
      ]
     },
     "execution_count": 3,
     "metadata": {},
     "output_type": "execute_result"
    }
   ],
   "source": [
    "df"
   ]
  },
  {
   "cell_type": "markdown",
   "id": "1017c9e2",
   "metadata": {},
   "source": [
    "# Data Exploration"
   ]
  },
  {
   "cell_type": "code",
   "execution_count": 5,
   "id": "b7f01e54",
   "metadata": {},
   "outputs": [
    {
     "data": {
      "text/plain": [
       "(148, 6)"
      ]
     },
     "execution_count": 5,
     "metadata": {},
     "output_type": "execute_result"
    }
   ],
   "source": [
    "df.shape"
   ]
  },
  {
   "cell_type": "code",
   "execution_count": 6,
   "id": "021215a2",
   "metadata": {},
   "outputs": [
    {
     "name": "stdout",
     "output_type": "stream",
     "text": [
      "<class 'pandas.core.frame.DataFrame'>\n",
      "RangeIndex: 148 entries, 0 to 147\n",
      "Data columns (total 6 columns):\n",
      " #   Column   Non-Null Count  Dtype  \n",
      "---  ------   --------------  -----  \n",
      " 0   Company  140 non-null    object \n",
      " 1   Age      130 non-null    float64\n",
      " 2   Salary   124 non-null    float64\n",
      " 3   Place    134 non-null    object \n",
      " 4   Country  148 non-null    object \n",
      " 5   Gender   148 non-null    int64  \n",
      "dtypes: float64(2), int64(1), object(3)\n",
      "memory usage: 7.1+ KB\n"
     ]
    }
   ],
   "source": [
    "df.info()"
   ]
  },
  {
   "cell_type": "code",
   "execution_count": 7,
   "id": "e049eb43",
   "metadata": {},
   "outputs": [
    {
     "data": {
      "text/html": [
       "<div>\n",
       "<style scoped>\n",
       "    .dataframe tbody tr th:only-of-type {\n",
       "        vertical-align: middle;\n",
       "    }\n",
       "\n",
       "    .dataframe tbody tr th {\n",
       "        vertical-align: top;\n",
       "    }\n",
       "\n",
       "    .dataframe thead th {\n",
       "        text-align: right;\n",
       "    }\n",
       "</style>\n",
       "<table border=\"1\" class=\"dataframe\">\n",
       "  <thead>\n",
       "    <tr style=\"text-align: right;\">\n",
       "      <th></th>\n",
       "      <th>Age</th>\n",
       "      <th>Salary</th>\n",
       "      <th>Gender</th>\n",
       "    </tr>\n",
       "  </thead>\n",
       "  <tbody>\n",
       "    <tr>\n",
       "      <th>count</th>\n",
       "      <td>130.000000</td>\n",
       "      <td>124.000000</td>\n",
       "      <td>148.000000</td>\n",
       "    </tr>\n",
       "    <tr>\n",
       "      <th>mean</th>\n",
       "      <td>30.484615</td>\n",
       "      <td>5312.467742</td>\n",
       "      <td>0.222973</td>\n",
       "    </tr>\n",
       "    <tr>\n",
       "      <th>std</th>\n",
       "      <td>11.096640</td>\n",
       "      <td>2573.764683</td>\n",
       "      <td>0.417654</td>\n",
       "    </tr>\n",
       "    <tr>\n",
       "      <th>min</th>\n",
       "      <td>0.000000</td>\n",
       "      <td>1089.000000</td>\n",
       "      <td>0.000000</td>\n",
       "    </tr>\n",
       "    <tr>\n",
       "      <th>25%</th>\n",
       "      <td>22.000000</td>\n",
       "      <td>3030.000000</td>\n",
       "      <td>0.000000</td>\n",
       "    </tr>\n",
       "    <tr>\n",
       "      <th>50%</th>\n",
       "      <td>32.500000</td>\n",
       "      <td>5000.000000</td>\n",
       "      <td>0.000000</td>\n",
       "    </tr>\n",
       "    <tr>\n",
       "      <th>75%</th>\n",
       "      <td>37.750000</td>\n",
       "      <td>8000.000000</td>\n",
       "      <td>0.000000</td>\n",
       "    </tr>\n",
       "    <tr>\n",
       "      <th>max</th>\n",
       "      <td>54.000000</td>\n",
       "      <td>9876.000000</td>\n",
       "      <td>1.000000</td>\n",
       "    </tr>\n",
       "  </tbody>\n",
       "</table>\n",
       "</div>"
      ],
      "text/plain": [
       "              Age       Salary      Gender\n",
       "count  130.000000   124.000000  148.000000\n",
       "mean    30.484615  5312.467742    0.222973\n",
       "std     11.096640  2573.764683    0.417654\n",
       "min      0.000000  1089.000000    0.000000\n",
       "25%     22.000000  3030.000000    0.000000\n",
       "50%     32.500000  5000.000000    0.000000\n",
       "75%     37.750000  8000.000000    0.000000\n",
       "max     54.000000  9876.000000    1.000000"
      ]
     },
     "execution_count": 7,
     "metadata": {},
     "output_type": "execute_result"
    }
   ],
   "source": [
    "df.describe()"
   ]
  },
  {
   "cell_type": "code",
   "execution_count": 9,
   "id": "4bf443bf",
   "metadata": {},
   "outputs": [
    {
     "data": {
      "text/plain": [
       "array(['TCS', 'Infosys', 'CTS', nan, 'Tata Consultancy Services',\n",
       "       'Congnizant', 'Infosys Pvt Lmt'], dtype=object)"
      ]
     },
     "execution_count": 9,
     "metadata": {},
     "output_type": "execute_result"
    }
   ],
   "source": [
    "df.Company.unique()"
   ]
  },
  {
   "cell_type": "code",
   "execution_count": 10,
   "id": "fdcb9560",
   "metadata": {},
   "outputs": [
    {
     "data": {
      "text/plain": [
       "7"
      ]
     },
     "execution_count": 10,
     "metadata": {},
     "output_type": "execute_result"
    }
   ],
   "source": [
    "len(df.Company.unique())"
   ]
  },
  {
   "cell_type": "code",
   "execution_count": 12,
   "id": "893dce2d",
   "metadata": {},
   "outputs": [
    {
     "data": {
      "text/plain": [
       "array([20., 30., 35., 40., 23., nan, 34., 45., 18., 22., 32., 37., 50.,\n",
       "       21., 46., 36., 26., 41., 24., 25., 43., 19., 38., 51., 31., 44.,\n",
       "       33., 17.,  0., 54.])"
      ]
     },
     "execution_count": 12,
     "metadata": {},
     "output_type": "execute_result"
    }
   ],
   "source": [
    "df.Age.unique()"
   ]
  },
  {
   "cell_type": "code",
   "execution_count": 13,
   "id": "a13a7752",
   "metadata": {},
   "outputs": [
    {
     "data": {
      "text/plain": [
       "30"
      ]
     },
     "execution_count": 13,
     "metadata": {},
     "output_type": "execute_result"
    }
   ],
   "source": [
    "len(df.Age.unique())"
   ]
  },
  {
   "cell_type": "code",
   "execution_count": 15,
   "id": "6f9ab176",
   "metadata": {},
   "outputs": [
    {
     "data": {
      "text/plain": [
       "array([  nan, 2300., 3000., 4000., 5000., 6000., 7000., 8000., 9000.,\n",
       "       1089., 1234., 3030., 3045., 3184., 4824., 5835., 7084., 8943.,\n",
       "       8345., 9284., 9876., 2034., 7654., 2934., 4034., 5034., 8202.,\n",
       "       9024., 4345., 6544., 6543., 3234., 4324., 5435., 5555., 8787.,\n",
       "       3454., 5654., 5009., 5098., 3033.])"
      ]
     },
     "execution_count": 15,
     "metadata": {},
     "output_type": "execute_result"
    }
   ],
   "source": [
    "df.Salary.unique()"
   ]
  },
  {
   "cell_type": "code",
   "execution_count": 16,
   "id": "c20490c8",
   "metadata": {},
   "outputs": [
    {
     "data": {
      "text/plain": [
       "41"
      ]
     },
     "execution_count": 16,
     "metadata": {},
     "output_type": "execute_result"
    }
   ],
   "source": [
    "len(df.Salary.unique())"
   ]
  },
  {
   "cell_type": "code",
   "execution_count": 17,
   "id": "e0f4d69b",
   "metadata": {},
   "outputs": [
    {
     "data": {
      "text/plain": [
       "array(['Chennai', 'Mumbai', 'Calcutta', 'Delhi', 'Podicherry', 'Cochin',\n",
       "       nan, 'Noida', 'Hyderabad', 'Bhopal', 'Nagpur', 'Pune'],\n",
       "      dtype=object)"
      ]
     },
     "execution_count": 17,
     "metadata": {},
     "output_type": "execute_result"
    }
   ],
   "source": [
    "df.Place.unique()"
   ]
  },
  {
   "cell_type": "code",
   "execution_count": 18,
   "id": "6ea3f390",
   "metadata": {},
   "outputs": [
    {
     "data": {
      "text/plain": [
       "12"
      ]
     },
     "execution_count": 18,
     "metadata": {},
     "output_type": "execute_result"
    }
   ],
   "source": [
    "len(df.Place.unique())"
   ]
  },
  {
   "cell_type": "code",
   "execution_count": 19,
   "id": "9c8f04d5",
   "metadata": {},
   "outputs": [
    {
     "data": {
      "text/plain": [
       "array(['India'], dtype=object)"
      ]
     },
     "execution_count": 19,
     "metadata": {},
     "output_type": "execute_result"
    }
   ],
   "source": [
    "df.Country.unique()"
   ]
  },
  {
   "cell_type": "code",
   "execution_count": 20,
   "id": "fb48cf3c",
   "metadata": {},
   "outputs": [
    {
     "data": {
      "text/plain": [
       "1"
      ]
     },
     "execution_count": 20,
     "metadata": {},
     "output_type": "execute_result"
    }
   ],
   "source": [
    "len(df.Country.unique())"
   ]
  },
  {
   "cell_type": "code",
   "execution_count": 21,
   "id": "1d68ec67",
   "metadata": {},
   "outputs": [
    {
     "data": {
      "text/plain": [
       "array([0, 1], dtype=int64)"
      ]
     },
     "execution_count": 21,
     "metadata": {},
     "output_type": "execute_result"
    }
   ],
   "source": [
    "df.Gender.unique()"
   ]
  },
  {
   "cell_type": "code",
   "execution_count": 22,
   "id": "967b4526",
   "metadata": {},
   "outputs": [
    {
     "data": {
      "text/plain": [
       "2"
      ]
     },
     "execution_count": 22,
     "metadata": {},
     "output_type": "execute_result"
    }
   ],
   "source": [
    "len(df.Gender.unique())"
   ]
  },
  {
   "cell_type": "markdown",
   "id": "9761b433",
   "metadata": {},
   "source": [
    "# Data Cleaning"
   ]
  },
  {
   "cell_type": "code",
   "execution_count": 27,
   "id": "94157bd3",
   "metadata": {},
   "outputs": [
    {
     "data": {
      "text/plain": [
       "4"
      ]
     },
     "execution_count": 27,
     "metadata": {},
     "output_type": "execute_result"
    }
   ],
   "source": [
    "df.duplicated().sum()"
   ]
  },
  {
   "cell_type": "code",
   "execution_count": 29,
   "id": "2077bd70",
   "metadata": {},
   "outputs": [],
   "source": [
    "Newdf=df.drop_duplicates()"
   ]
  },
  {
   "cell_type": "code",
   "execution_count": 30,
   "id": "784053ca",
   "metadata": {},
   "outputs": [
    {
     "data": {
      "text/plain": [
       "(144, 6)"
      ]
     },
     "execution_count": 30,
     "metadata": {},
     "output_type": "execute_result"
    }
   ],
   "source": [
    "Newdf.shape"
   ]
  },
  {
   "cell_type": "code",
   "execution_count": 31,
   "id": "9e3e48a0",
   "metadata": {},
   "outputs": [
    {
     "data": {
      "text/plain": [
       "Age\n",
       "22.0    15\n",
       "33.0    13\n",
       "44.0    10\n",
       "23.0     8\n",
       "34.0     8\n",
       "32.0     7\n",
       "21.0     7\n",
       "35.0     6\n",
       "0.0      6\n",
       "41.0     5\n",
       "45.0     4\n",
       "24.0     4\n",
       "20.0     3\n",
       "31.0     3\n",
       "43.0     3\n",
       "25.0     3\n",
       "36.0     3\n",
       "40.0     3\n",
       "26.0     2\n",
       "30.0     2\n",
       "46.0     2\n",
       "50.0     2\n",
       "37.0     2\n",
       "19.0     1\n",
       "38.0     1\n",
       "51.0     1\n",
       "18.0     1\n",
       "17.0     1\n",
       "54.0     1\n",
       "Name: count, dtype: int64"
      ]
     },
     "execution_count": 31,
     "metadata": {},
     "output_type": "execute_result"
    }
   ],
   "source": [
    "Newdf.Age.value_counts()"
   ]
  },
  {
   "cell_type": "code",
   "execution_count": 32,
   "id": "dc01fc3c",
   "metadata": {},
   "outputs": [
    {
     "name": "stderr",
     "output_type": "stream",
     "text": [
      "C:\\Users\\RAMSEENA\\AppData\\Local\\Temp\\ipykernel_21420\\1160721960.py:1: SettingWithCopyWarning: \n",
      "A value is trying to be set on a copy of a slice from a DataFrame.\n",
      "Try using .loc[row_indexer,col_indexer] = value instead\n",
      "\n",
      "See the caveats in the documentation: https://pandas.pydata.org/pandas-docs/stable/user_guide/indexing.html#returning-a-view-versus-a-copy\n",
      "  Newdf.Age = Newdf.Age.replace(to_replace = 0,value = np.NaN)\n"
     ]
    }
   ],
   "source": [
    "# replace the value 0 in age as NaN\n",
    "Newdf.Age = Newdf.Age.replace(to_replace = 0,value = np.NaN)"
   ]
  },
  {
   "cell_type": "code",
   "execution_count": 33,
   "id": "0d627733",
   "metadata": {},
   "outputs": [
    {
     "data": {
      "text/plain": [
       "54.0"
      ]
     },
     "execution_count": 33,
     "metadata": {},
     "output_type": "execute_result"
    }
   ],
   "source": [
    "Newdf.Age.max()"
   ]
  },
  {
   "cell_type": "code",
   "execution_count": 34,
   "id": "1d0581cd",
   "metadata": {},
   "outputs": [
    {
     "data": {
      "text/plain": [
       "17.0"
      ]
     },
     "execution_count": 34,
     "metadata": {},
     "output_type": "execute_result"
    }
   ],
   "source": [
    "Newdf.Age.min()"
   ]
  },
  {
   "cell_type": "code",
   "execution_count": 35,
   "id": "5c3e7c23",
   "metadata": {},
   "outputs": [
    {
     "data": {
      "text/html": [
       "<div>\n",
       "<style scoped>\n",
       "    .dataframe tbody tr th:only-of-type {\n",
       "        vertical-align: middle;\n",
       "    }\n",
       "\n",
       "    .dataframe tbody tr th {\n",
       "        vertical-align: top;\n",
       "    }\n",
       "\n",
       "    .dataframe thead th {\n",
       "        text-align: right;\n",
       "    }\n",
       "</style>\n",
       "<table border=\"1\" class=\"dataframe\">\n",
       "  <thead>\n",
       "    <tr style=\"text-align: right;\">\n",
       "      <th></th>\n",
       "      <th>Company</th>\n",
       "      <th>Age</th>\n",
       "      <th>Salary</th>\n",
       "      <th>Place</th>\n",
       "      <th>Country</th>\n",
       "      <th>Gender</th>\n",
       "    </tr>\n",
       "  </thead>\n",
       "  <tbody>\n",
       "    <tr>\n",
       "      <th>85</th>\n",
       "      <td>CTS</td>\n",
       "      <td>17.0</td>\n",
       "      <td>1234.0</td>\n",
       "      <td>Calcutta</td>\n",
       "      <td>India</td>\n",
       "      <td>0</td>\n",
       "    </tr>\n",
       "  </tbody>\n",
       "</table>\n",
       "</div>"
      ],
      "text/plain": [
       "   Company   Age  Salary     Place Country  Gender\n",
       "85     CTS  17.0  1234.0  Calcutta   India       0"
      ]
     },
     "execution_count": 35,
     "metadata": {},
     "output_type": "execute_result"
    }
   ],
   "source": [
    "Newdf[Newdf.Age<18]"
   ]
  },
  {
   "cell_type": "code",
   "execution_count": 37,
   "id": "2b6c0f0a",
   "metadata": {},
   "outputs": [
    {
     "name": "stderr",
     "output_type": "stream",
     "text": [
      "C:\\Users\\RAMSEENA\\AppData\\Local\\Temp\\ipykernel_21420\\225124035.py:4: SettingWithCopyWarning: \n",
      "A value is trying to be set on a copy of a slice from a DataFrame\n",
      "\n",
      "See the caveats in the documentation: https://pandas.pydata.org/pandas-docs/stable/user_guide/indexing.html#returning-a-view-versus-a-copy\n",
      "  Newdf.drop(age_index,inplace=True)\n"
     ]
    }
   ],
   "source": [
    "#drop row having age < 18\n",
    "age_index = Newdf[Newdf.Age < 18].index\n",
    "\n",
    "Newdf.drop(age_index,inplace=True)"
   ]
  },
  {
   "cell_type": "code",
   "execution_count": 38,
   "id": "2f2957fb",
   "metadata": {},
   "outputs": [
    {
     "data": {
      "text/plain": [
       "9876.0"
      ]
     },
     "execution_count": 38,
     "metadata": {},
     "output_type": "execute_result"
    }
   ],
   "source": [
    "Newdf.Salary.max()"
   ]
  },
  {
   "cell_type": "code",
   "execution_count": 39,
   "id": "1b36b8ed",
   "metadata": {},
   "outputs": [
    {
     "data": {
      "text/plain": [
       "1089.0"
      ]
     },
     "execution_count": 39,
     "metadata": {},
     "output_type": "execute_result"
    }
   ],
   "source": [
    "Newdf.Salary.min()"
   ]
  },
  {
   "cell_type": "code",
   "execution_count": 40,
   "id": "c195a90f",
   "metadata": {},
   "outputs": [
    {
     "data": {
      "text/plain": [
       "(3030.0, 8000.0, 4970.0)"
      ]
     },
     "execution_count": 40,
     "metadata": {},
     "output_type": "execute_result"
    }
   ],
   "source": [
    "# find outliers\n",
    "Q1 = Newdf.Salary.quantile(0.25)\n",
    "Q3 = Newdf.Salary.quantile(0.75)\n",
    "IQR = Q3 - Q1\n",
    "Q1,Q3,IQR"
   ]
  },
  {
   "cell_type": "code",
   "execution_count": 42,
   "id": "326e1355",
   "metadata": {},
   "outputs": [
    {
     "data": {
      "text/plain": [
       "(-4425.0, 15455.0)"
      ]
     },
     "execution_count": 42,
     "metadata": {},
     "output_type": "execute_result"
    }
   ],
   "source": [
    "lower = Q1 - 1.5*IQR\n",
    "upper = Q3 + 1.5*IQR\n",
    "\n",
    "lower,upper"
   ]
  },
  {
   "cell_type": "code",
   "execution_count": 44,
   "id": "11b3ad76",
   "metadata": {},
   "outputs": [
    {
     "data": {
      "text/plain": [
       "Company     8\n",
       "Age        23\n",
       "Salary     23\n",
       "Place      14\n",
       "Country     0\n",
       "Gender      0\n",
       "dtype: int64"
      ]
     },
     "execution_count": 44,
     "metadata": {},
     "output_type": "execute_result"
    }
   ],
   "source": [
    "# Treating null values\n",
    "Newdf.isnull().sum()"
   ]
  },
  {
   "cell_type": "code",
   "execution_count": 45,
   "id": "2acbd65c",
   "metadata": {},
   "outputs": [
    {
     "name": "stderr",
     "output_type": "stream",
     "text": [
      "C:\\Users\\RAMSEENA\\AppData\\Local\\Temp\\ipykernel_21420\\4002428519.py:1: SettingWithCopyWarning: \n",
      "A value is trying to be set on a copy of a slice from a DataFrame\n",
      "\n",
      "See the caveats in the documentation: https://pandas.pydata.org/pandas-docs/stable/user_guide/indexing.html#returning-a-view-versus-a-copy\n",
      "  Newdf.Age.fillna(df.Age.mean(),inplace = True)\n"
     ]
    }
   ],
   "source": [
    "Newdf.Age.fillna(df.Age.mean(),inplace = True)"
   ]
  },
  {
   "cell_type": "code",
   "execution_count": 46,
   "id": "2886c8d4",
   "metadata": {},
   "outputs": [
    {
     "name": "stderr",
     "output_type": "stream",
     "text": [
      "C:\\Users\\RAMSEENA\\AppData\\Local\\Temp\\ipykernel_21420\\3197006759.py:1: SettingWithCopyWarning: \n",
      "A value is trying to be set on a copy of a slice from a DataFrame\n",
      "\n",
      "See the caveats in the documentation: https://pandas.pydata.org/pandas-docs/stable/user_guide/indexing.html#returning-a-view-versus-a-copy\n",
      "  Newdf.Salary.fillna(df.Salary.mean(),inplace = True)\n"
     ]
    }
   ],
   "source": [
    "Newdf.Salary.fillna(df.Salary.mean(),inplace = True)"
   ]
  },
  {
   "cell_type": "code",
   "execution_count": 47,
   "id": "839a2e8e",
   "metadata": {},
   "outputs": [
    {
     "name": "stderr",
     "output_type": "stream",
     "text": [
      "C:\\Users\\RAMSEENA\\AppData\\Local\\Temp\\ipykernel_21420\\1213532714.py:1: SettingWithCopyWarning: \n",
      "A value is trying to be set on a copy of a slice from a DataFrame\n",
      "\n",
      "See the caveats in the documentation: https://pandas.pydata.org/pandas-docs/stable/user_guide/indexing.html#returning-a-view-versus-a-copy\n",
      "  Newdf.Company.fillna(method = 'bfill',inplace = True)\n"
     ]
    }
   ],
   "source": [
    "Newdf.Company.fillna(method = 'bfill',inplace = True)"
   ]
  },
  {
   "cell_type": "code",
   "execution_count": 48,
   "id": "a1247f3c",
   "metadata": {},
   "outputs": [
    {
     "name": "stderr",
     "output_type": "stream",
     "text": [
      "C:\\Users\\RAMSEENA\\AppData\\Local\\Temp\\ipykernel_21420\\3821710392.py:1: SettingWithCopyWarning: \n",
      "A value is trying to be set on a copy of a slice from a DataFrame\n",
      "\n",
      "See the caveats in the documentation: https://pandas.pydata.org/pandas-docs/stable/user_guide/indexing.html#returning-a-view-versus-a-copy\n",
      "  Newdf.Place.fillna(method = 'bfill',inplace = True)\n"
     ]
    }
   ],
   "source": [
    "Newdf.Place.fillna(method = 'bfill',inplace = True)"
   ]
  },
  {
   "cell_type": "code",
   "execution_count": 49,
   "id": "85a662b9",
   "metadata": {},
   "outputs": [
    {
     "data": {
      "text/plain": [
       "Company    0\n",
       "Age        0\n",
       "Salary     0\n",
       "Place      0\n",
       "Country    0\n",
       "Gender     0\n",
       "dtype: int64"
      ]
     },
     "execution_count": 49,
     "metadata": {},
     "output_type": "execute_result"
    }
   ],
   "source": [
    "Newdf.isnull().sum()"
   ]
  },
  {
   "cell_type": "markdown",
   "id": "34d1ebcb",
   "metadata": {},
   "source": [
    "# Data Analysis\n"
   ]
  },
  {
   "cell_type": "code",
   "execution_count": 50,
   "id": "4b0d9d95",
   "metadata": {},
   "outputs": [
    {
     "data": {
      "text/html": [
       "<div>\n",
       "<style scoped>\n",
       "    .dataframe tbody tr th:only-of-type {\n",
       "        vertical-align: middle;\n",
       "    }\n",
       "\n",
       "    .dataframe tbody tr th {\n",
       "        vertical-align: top;\n",
       "    }\n",
       "\n",
       "    .dataframe thead th {\n",
       "        text-align: right;\n",
       "    }\n",
       "</style>\n",
       "<table border=\"1\" class=\"dataframe\">\n",
       "  <thead>\n",
       "    <tr style=\"text-align: right;\">\n",
       "      <th></th>\n",
       "      <th>Company</th>\n",
       "      <th>Age</th>\n",
       "      <th>Salary</th>\n",
       "      <th>Place</th>\n",
       "      <th>Country</th>\n",
       "      <th>Gender</th>\n",
       "    </tr>\n",
       "  </thead>\n",
       "  <tbody>\n",
       "    <tr>\n",
       "      <th>21</th>\n",
       "      <td>Infosys</td>\n",
       "      <td>50.0</td>\n",
       "      <td>3184.0</td>\n",
       "      <td>Delhi</td>\n",
       "      <td>India</td>\n",
       "      <td>0</td>\n",
       "    </tr>\n",
       "    <tr>\n",
       "      <th>32</th>\n",
       "      <td>Infosys</td>\n",
       "      <td>45.0</td>\n",
       "      <td>4034.0</td>\n",
       "      <td>Calcutta</td>\n",
       "      <td>India</td>\n",
       "      <td>0</td>\n",
       "    </tr>\n",
       "    <tr>\n",
       "      <th>39</th>\n",
       "      <td>Infosys</td>\n",
       "      <td>41.0</td>\n",
       "      <td>3000.0</td>\n",
       "      <td>Mumbai</td>\n",
       "      <td>India</td>\n",
       "      <td>0</td>\n",
       "    </tr>\n",
       "    <tr>\n",
       "      <th>50</th>\n",
       "      <td>Infosys</td>\n",
       "      <td>41.0</td>\n",
       "      <td>3000.0</td>\n",
       "      <td>Chennai</td>\n",
       "      <td>India</td>\n",
       "      <td>0</td>\n",
       "    </tr>\n",
       "    <tr>\n",
       "      <th>57</th>\n",
       "      <td>Infosys</td>\n",
       "      <td>51.0</td>\n",
       "      <td>3184.0</td>\n",
       "      <td>Hyderabad</td>\n",
       "      <td>India</td>\n",
       "      <td>0</td>\n",
       "    </tr>\n",
       "    <tr>\n",
       "      <th>68</th>\n",
       "      <td>Infosys</td>\n",
       "      <td>43.0</td>\n",
       "      <td>4034.0</td>\n",
       "      <td>Mumbai</td>\n",
       "      <td>India</td>\n",
       "      <td>0</td>\n",
       "    </tr>\n",
       "    <tr>\n",
       "      <th>75</th>\n",
       "      <td>Infosys</td>\n",
       "      <td>44.0</td>\n",
       "      <td>3000.0</td>\n",
       "      <td>Cochin</td>\n",
       "      <td>India</td>\n",
       "      <td>0</td>\n",
       "    </tr>\n",
       "    <tr>\n",
       "      <th>86</th>\n",
       "      <td>Infosys</td>\n",
       "      <td>41.0</td>\n",
       "      <td>3000.0</td>\n",
       "      <td>Delhi</td>\n",
       "      <td>India</td>\n",
       "      <td>0</td>\n",
       "    </tr>\n",
       "    <tr>\n",
       "      <th>93</th>\n",
       "      <td>Infosys</td>\n",
       "      <td>54.0</td>\n",
       "      <td>3184.0</td>\n",
       "      <td>Mumbai</td>\n",
       "      <td>India</td>\n",
       "      <td>0</td>\n",
       "    </tr>\n",
       "    <tr>\n",
       "      <th>104</th>\n",
       "      <td>Infosys</td>\n",
       "      <td>44.0</td>\n",
       "      <td>4034.0</td>\n",
       "      <td>Delhi</td>\n",
       "      <td>India</td>\n",
       "      <td>0</td>\n",
       "    </tr>\n",
       "    <tr>\n",
       "      <th>122</th>\n",
       "      <td>Infosys</td>\n",
       "      <td>44.0</td>\n",
       "      <td>3234.0</td>\n",
       "      <td>Mumbai</td>\n",
       "      <td>India</td>\n",
       "      <td>0</td>\n",
       "    </tr>\n",
       "    <tr>\n",
       "      <th>129</th>\n",
       "      <td>Infosys</td>\n",
       "      <td>50.0</td>\n",
       "      <td>3184.0</td>\n",
       "      <td>Calcutta</td>\n",
       "      <td>India</td>\n",
       "      <td>0</td>\n",
       "    </tr>\n",
       "    <tr>\n",
       "      <th>138</th>\n",
       "      <td>CTS</td>\n",
       "      <td>44.0</td>\n",
       "      <td>3033.0</td>\n",
       "      <td>Cochin</td>\n",
       "      <td>India</td>\n",
       "      <td>0</td>\n",
       "    </tr>\n",
       "    <tr>\n",
       "      <th>140</th>\n",
       "      <td>Infosys</td>\n",
       "      <td>44.0</td>\n",
       "      <td>4034.0</td>\n",
       "      <td>Hyderabad</td>\n",
       "      <td>India</td>\n",
       "      <td>0</td>\n",
       "    </tr>\n",
       "    <tr>\n",
       "      <th>145</th>\n",
       "      <td>Infosys</td>\n",
       "      <td>44.0</td>\n",
       "      <td>4034.0</td>\n",
       "      <td>Delhi</td>\n",
       "      <td>India</td>\n",
       "      <td>1</td>\n",
       "    </tr>\n",
       "  </tbody>\n",
       "</table>\n",
       "</div>"
      ],
      "text/plain": [
       "     Company   Age  Salary      Place Country  Gender\n",
       "21   Infosys  50.0  3184.0      Delhi   India       0\n",
       "32   Infosys  45.0  4034.0   Calcutta   India       0\n",
       "39   Infosys  41.0  3000.0     Mumbai   India       0\n",
       "50   Infosys  41.0  3000.0    Chennai   India       0\n",
       "57   Infosys  51.0  3184.0  Hyderabad   India       0\n",
       "68   Infosys  43.0  4034.0     Mumbai   India       0\n",
       "75   Infosys  44.0  3000.0     Cochin   India       0\n",
       "86   Infosys  41.0  3000.0      Delhi   India       0\n",
       "93   Infosys  54.0  3184.0     Mumbai   India       0\n",
       "104  Infosys  44.0  4034.0      Delhi   India       0\n",
       "122  Infosys  44.0  3234.0     Mumbai   India       0\n",
       "129  Infosys  50.0  3184.0   Calcutta   India       0\n",
       "138      CTS  44.0  3033.0     Cochin   India       0\n",
       "140  Infosys  44.0  4034.0  Hyderabad   India       0\n",
       "145  Infosys  44.0  4034.0      Delhi   India       1"
      ]
     },
     "execution_count": 50,
     "metadata": {},
     "output_type": "execute_result"
    }
   ],
   "source": [
    "# Filter the data with age >40 and salary <5000\n",
    "Newdf[(Newdf.Age > 40) & (Newdf.Salary < 5000)]"
   ]
  },
  {
   "cell_type": "code",
   "execution_count": 52,
   "id": "d0c8b83f",
   "metadata": {},
   "outputs": [
    {
     "data": {
      "text/plain": [
       "<matplotlib.collections.PathCollection at 0x1909a544bd0>"
      ]
     },
     "execution_count": 52,
     "metadata": {},
     "output_type": "execute_result"
    },
    {
     "data": {
      "image/png": "[encoded data removed]",
      "text/plain": [
       "<Figure size 640x480 with 1 Axes>"
      ]
     },
     "metadata": {},
     "output_type": "display_data"
    }
   ],
   "source": [
    "# plot the chart with age and salary.\n",
    "plt.xlabel('Age')\n",
    "plt.ylabel('Salary')\n",
    "plt.title('Age vs Salary')\n",
    "plt.scatter (Newdf.Age,Newdf.Salary)"
   ]
  },
  {
   "cell_type": "code",
   "execution_count": 53,
   "id": "258470c3",
   "metadata": {},
   "outputs": [
    {
     "data": {
      "text/plain": [
       "Place\n",
       "Mumbai        34\n",
       "Calcutta      31\n",
       "Noida         22\n",
       "Chennai       14\n",
       "Delhi         14\n",
       "Cochin        13\n",
       "Hyderabad      8\n",
       "Podicherry     3\n",
       "Pune           2\n",
       "Bhopal         1\n",
       "Nagpur         1\n",
       "Name: count, dtype: int64"
      ]
     },
     "execution_count": 53,
     "metadata": {},
     "output_type": "execute_result"
    }
   ],
   "source": [
    "# count the number of people from each place and represent it visually\n",
    "\n",
    "Newdf.Place.value_counts()"
   ]
  },
  {
   "cell_type": "code",
   "execution_count": 57,
   "id": "8ebe32d3",
   "metadata": {},
   "outputs": [
    {
     "data": {
      "text/plain": [
       "<Axes: xlabel='Place', ylabel='Number of people'>"
      ]
     },
     "execution_count": 57,
     "metadata": {},
     "output_type": "execute_result"
    },
    {
     "data": {
      "image/png": "[encoded data removed]",
      "text/plain": [
       "<Figure size 640x480 with 1 Axes>"
      ]
     },
     "metadata": {},
     "output_type": "display_data"
    }
   ],
   "source": [
    "plt.xlabel('Place')\n",
    "plt.ylabel('Number of people')\n",
    "Newdf.Place.value_counts().plot(kind = 'bar')"
   ]
  },
  {
   "cell_type": "markdown",
   "id": "2f2ec906",
   "metadata": {},
   "source": [
    "# Data Encoding"
   ]
  },
  {
   "cell_type": "code",
   "execution_count": 69,
   "id": "6d696f9e",
   "metadata": {},
   "outputs": [],
   "source": [
    "from sklearn.preprocessing import OneHotEncoder\n",
    "from sklearn.preprocessing import LabelEncoder\n",
    "from sklearn.preprocessing import MinMaxScaler\n",
    "from sklearn.preprocessing import StandardScaler"
   ]
  },
  {
   "cell_type": "code",
   "execution_count": 70,
   "id": "d905ef4a",
   "metadata": {},
   "outputs": [
    {
     "data": {
      "text/html": [
       "<div>\n",
       "<style scoped>\n",
       "    .dataframe tbody tr th:only-of-type {\n",
       "        vertical-align: middle;\n",
       "    }\n",
       "\n",
       "    .dataframe tbody tr th {\n",
       "        vertical-align: top;\n",
       "    }\n",
       "\n",
       "    .dataframe thead th {\n",
       "        text-align: right;\n",
       "    }\n",
       "</style>\n",
       "<table border=\"1\" class=\"dataframe\">\n",
       "  <thead>\n",
       "    <tr style=\"text-align: right;\">\n",
       "      <th></th>\n",
       "      <th>Age</th>\n",
       "      <th>Salary</th>\n",
       "      <th>Company_CTS</th>\n",
       "      <th>Company_Congnizant</th>\n",
       "      <th>Company_Infosys</th>\n",
       "      <th>Company_Infosys Pvt Lmt</th>\n",
       "      <th>Company_TCS</th>\n",
       "      <th>Company_Tata Consultancy Services</th>\n",
       "      <th>Place_Bhopal</th>\n",
       "      <th>Place_Calcutta</th>\n",
       "      <th>...</th>\n",
       "      <th>Place_Delhi</th>\n",
       "      <th>Place_Hyderabad</th>\n",
       "      <th>Place_Mumbai</th>\n",
       "      <th>Place_Nagpur</th>\n",
       "      <th>Place_Noida</th>\n",
       "      <th>Place_Podicherry</th>\n",
       "      <th>Place_Pune</th>\n",
       "      <th>Country_India</th>\n",
       "      <th>Gender_0</th>\n",
       "      <th>Gender_1</th>\n",
       "    </tr>\n",
       "  </thead>\n",
       "  <tbody>\n",
       "    <tr>\n",
       "      <th>0</th>\n",
       "      <td>20.0</td>\n",
       "      <td>5312.467742</td>\n",
       "      <td>False</td>\n",
       "      <td>False</td>\n",
       "      <td>False</td>\n",
       "      <td>False</td>\n",
       "      <td>True</td>\n",
       "      <td>False</td>\n",
       "      <td>False</td>\n",
       "      <td>False</td>\n",
       "      <td>...</td>\n",
       "      <td>False</td>\n",
       "      <td>False</td>\n",
       "      <td>False</td>\n",
       "      <td>False</td>\n",
       "      <td>False</td>\n",
       "      <td>False</td>\n",
       "      <td>False</td>\n",
       "      <td>True</td>\n",
       "      <td>True</td>\n",
       "      <td>False</td>\n",
       "    </tr>\n",
       "    <tr>\n",
       "      <th>1</th>\n",
       "      <td>30.0</td>\n",
       "      <td>5312.467742</td>\n",
       "      <td>False</td>\n",
       "      <td>False</td>\n",
       "      <td>True</td>\n",
       "      <td>False</td>\n",
       "      <td>False</td>\n",
       "      <td>False</td>\n",
       "      <td>False</td>\n",
       "      <td>False</td>\n",
       "      <td>...</td>\n",
       "      <td>False</td>\n",
       "      <td>False</td>\n",
       "      <td>True</td>\n",
       "      <td>False</td>\n",
       "      <td>False</td>\n",
       "      <td>False</td>\n",
       "      <td>False</td>\n",
       "      <td>True</td>\n",
       "      <td>True</td>\n",
       "      <td>False</td>\n",
       "    </tr>\n",
       "    <tr>\n",
       "      <th>2</th>\n",
       "      <td>35.0</td>\n",
       "      <td>2300.000000</td>\n",
       "      <td>False</td>\n",
       "      <td>False</td>\n",
       "      <td>False</td>\n",
       "      <td>False</td>\n",
       "      <td>True</td>\n",
       "      <td>False</td>\n",
       "      <td>False</td>\n",
       "      <td>True</td>\n",
       "      <td>...</td>\n",
       "      <td>False</td>\n",
       "      <td>False</td>\n",
       "      <td>False</td>\n",
       "      <td>False</td>\n",
       "      <td>False</td>\n",
       "      <td>False</td>\n",
       "      <td>False</td>\n",
       "      <td>True</td>\n",
       "      <td>True</td>\n",
       "      <td>False</td>\n",
       "    </tr>\n",
       "    <tr>\n",
       "      <th>3</th>\n",
       "      <td>40.0</td>\n",
       "      <td>3000.000000</td>\n",
       "      <td>False</td>\n",
       "      <td>False</td>\n",
       "      <td>True</td>\n",
       "      <td>False</td>\n",
       "      <td>False</td>\n",
       "      <td>False</td>\n",
       "      <td>False</td>\n",
       "      <td>False</td>\n",
       "      <td>...</td>\n",
       "      <td>True</td>\n",
       "      <td>False</td>\n",
       "      <td>False</td>\n",
       "      <td>False</td>\n",
       "      <td>False</td>\n",
       "      <td>False</td>\n",
       "      <td>False</td>\n",
       "      <td>True</td>\n",
       "      <td>True</td>\n",
       "      <td>False</td>\n",
       "    </tr>\n",
       "    <tr>\n",
       "      <th>4</th>\n",
       "      <td>23.0</td>\n",
       "      <td>4000.000000</td>\n",
       "      <td>False</td>\n",
       "      <td>False</td>\n",
       "      <td>False</td>\n",
       "      <td>False</td>\n",
       "      <td>True</td>\n",
       "      <td>False</td>\n",
       "      <td>False</td>\n",
       "      <td>False</td>\n",
       "      <td>...</td>\n",
       "      <td>False</td>\n",
       "      <td>False</td>\n",
       "      <td>True</td>\n",
       "      <td>False</td>\n",
       "      <td>False</td>\n",
       "      <td>False</td>\n",
       "      <td>False</td>\n",
       "      <td>True</td>\n",
       "      <td>True</td>\n",
       "      <td>False</td>\n",
       "    </tr>\n",
       "    <tr>\n",
       "      <th>...</th>\n",
       "      <td>...</td>\n",
       "      <td>...</td>\n",
       "      <td>...</td>\n",
       "      <td>...</td>\n",
       "      <td>...</td>\n",
       "      <td>...</td>\n",
       "      <td>...</td>\n",
       "      <td>...</td>\n",
       "      <td>...</td>\n",
       "      <td>...</td>\n",
       "      <td>...</td>\n",
       "      <td>...</td>\n",
       "      <td>...</td>\n",
       "      <td>...</td>\n",
       "      <td>...</td>\n",
       "      <td>...</td>\n",
       "      <td>...</td>\n",
       "      <td>...</td>\n",
       "      <td>...</td>\n",
       "      <td>...</td>\n",
       "      <td>...</td>\n",
       "    </tr>\n",
       "    <tr>\n",
       "      <th>142</th>\n",
       "      <td>22.0</td>\n",
       "      <td>8202.000000</td>\n",
       "      <td>False</td>\n",
       "      <td>False</td>\n",
       "      <td>False</td>\n",
       "      <td>True</td>\n",
       "      <td>False</td>\n",
       "      <td>False</td>\n",
       "      <td>False</td>\n",
       "      <td>False</td>\n",
       "      <td>...</td>\n",
       "      <td>False</td>\n",
       "      <td>False</td>\n",
       "      <td>True</td>\n",
       "      <td>False</td>\n",
       "      <td>False</td>\n",
       "      <td>False</td>\n",
       "      <td>False</td>\n",
       "      <td>True</td>\n",
       "      <td>True</td>\n",
       "      <td>False</td>\n",
       "    </tr>\n",
       "    <tr>\n",
       "      <th>143</th>\n",
       "      <td>33.0</td>\n",
       "      <td>9024.000000</td>\n",
       "      <td>False</td>\n",
       "      <td>False</td>\n",
       "      <td>False</td>\n",
       "      <td>False</td>\n",
       "      <td>True</td>\n",
       "      <td>False</td>\n",
       "      <td>False</td>\n",
       "      <td>True</td>\n",
       "      <td>...</td>\n",
       "      <td>False</td>\n",
       "      <td>False</td>\n",
       "      <td>False</td>\n",
       "      <td>False</td>\n",
       "      <td>False</td>\n",
       "      <td>False</td>\n",
       "      <td>False</td>\n",
       "      <td>True</td>\n",
       "      <td>False</td>\n",
       "      <td>True</td>\n",
       "    </tr>\n",
       "    <tr>\n",
       "      <th>145</th>\n",
       "      <td>44.0</td>\n",
       "      <td>4034.000000</td>\n",
       "      <td>False</td>\n",
       "      <td>False</td>\n",
       "      <td>True</td>\n",
       "      <td>False</td>\n",
       "      <td>False</td>\n",
       "      <td>False</td>\n",
       "      <td>False</td>\n",
       "      <td>False</td>\n",
       "      <td>...</td>\n",
       "      <td>True</td>\n",
       "      <td>False</td>\n",
       "      <td>False</td>\n",
       "      <td>False</td>\n",
       "      <td>False</td>\n",
       "      <td>False</td>\n",
       "      <td>False</td>\n",
       "      <td>True</td>\n",
       "      <td>False</td>\n",
       "      <td>True</td>\n",
       "    </tr>\n",
       "    <tr>\n",
       "      <th>146</th>\n",
       "      <td>33.0</td>\n",
       "      <td>5034.000000</td>\n",
       "      <td>False</td>\n",
       "      <td>False</td>\n",
       "      <td>False</td>\n",
       "      <td>False</td>\n",
       "      <td>True</td>\n",
       "      <td>False</td>\n",
       "      <td>False</td>\n",
       "      <td>False</td>\n",
       "      <td>...</td>\n",
       "      <td>False</td>\n",
       "      <td>False</td>\n",
       "      <td>True</td>\n",
       "      <td>False</td>\n",
       "      <td>False</td>\n",
       "      <td>False</td>\n",
       "      <td>False</td>\n",
       "      <td>True</td>\n",
       "      <td>False</td>\n",
       "      <td>True</td>\n",
       "    </tr>\n",
       "    <tr>\n",
       "      <th>147</th>\n",
       "      <td>22.0</td>\n",
       "      <td>8202.000000</td>\n",
       "      <td>False</td>\n",
       "      <td>False</td>\n",
       "      <td>True</td>\n",
       "      <td>False</td>\n",
       "      <td>False</td>\n",
       "      <td>False</td>\n",
       "      <td>False</td>\n",
       "      <td>False</td>\n",
       "      <td>...</td>\n",
       "      <td>False</td>\n",
       "      <td>False</td>\n",
       "      <td>False</td>\n",
       "      <td>False</td>\n",
       "      <td>False</td>\n",
       "      <td>False</td>\n",
       "      <td>False</td>\n",
       "      <td>True</td>\n",
       "      <td>True</td>\n",
       "      <td>False</td>\n",
       "    </tr>\n",
       "  </tbody>\n",
       "</table>\n",
       "<p>143 rows × 22 columns</p>\n",
       "</div>"
      ],
      "text/plain": [
       "      Age       Salary  Company_CTS  Company_Congnizant  Company_Infosys  \\\n",
       "0    20.0  5312.467742        False               False            False   \n",
       "1    30.0  5312.467742        False               False             True   \n",
       "2    35.0  2300.000000        False               False            False   \n",
       "3    40.0  3000.000000        False               False             True   \n",
       "4    23.0  4000.000000        False               False            False   \n",
       "..    ...          ...          ...                 ...              ...   \n",
       "142  22.0  8202.000000        False               False            False   \n",
       "143  33.0  9024.000000        False               False            False   \n",
       "145  44.0  4034.000000        False               False             True   \n",
       "146  33.0  5034.000000        False               False            False   \n",
       "147  22.0  8202.000000        False               False             True   \n",
       "\n",
       "     Company_Infosys Pvt Lmt  Company_TCS  Company_Tata Consultancy Services  \\\n",
       "0                      False         True                              False   \n",
       "1                      False        False                              False   \n",
       "2                      False         True                              False   \n",
       "3                      False        False                              False   \n",
       "4                      False         True                              False   \n",
       "..                       ...          ...                                ...   \n",
       "142                     True        False                              False   \n",
       "143                    False         True                              False   \n",
       "145                    False        False                              False   \n",
       "146                    False         True                              False   \n",
       "147                    False        False                              False   \n",
       "\n",
       "     Place_Bhopal  Place_Calcutta  ...  Place_Delhi  Place_Hyderabad  \\\n",
       "0           False           False  ...        False            False   \n",
       "1           False           False  ...        False            False   \n",
       "2           False            True  ...        False            False   \n",
       "3           False           False  ...         True            False   \n",
       "4           False           False  ...        False            False   \n",
       "..            ...             ...  ...          ...              ...   \n",
       "142         False           False  ...        False            False   \n",
       "143         False            True  ...        False            False   \n",
       "145         False           False  ...         True            False   \n",
       "146         False           False  ...        False            False   \n",
       "147         False           False  ...        False            False   \n",
       "\n",
       "     Place_Mumbai  Place_Nagpur  Place_Noida  Place_Podicherry  Place_Pune  \\\n",
       "0           False         False        False             False       False   \n",
       "1            True         False        False             False       False   \n",
       "2           False         False        False             False       False   \n",
       "3           False         False        False             False       False   \n",
       "4            True         False        False             False       False   \n",
       "..            ...           ...          ...               ...         ...   \n",
       "142          True         False        False             False       False   \n",
       "143         False         False        False             False       False   \n",
       "145         False         False        False             False       False   \n",
       "146          True         False        False             False       False   \n",
       "147         False         False        False             False       False   \n",
       "\n",
       "     Country_India  Gender_0  Gender_1  \n",
       "0             True      True     False  \n",
       "1             True      True     False  \n",
       "2             True      True     False  \n",
       "3             True      True     False  \n",
       "4             True      True     False  \n",
       "..             ...       ...       ...  \n",
       "142           True      True     False  \n",
       "143           True     False      True  \n",
       "145           True     False      True  \n",
       "146           True     False      True  \n",
       "147           True      True     False  \n",
       "\n",
       "[143 rows x 22 columns]"
      ]
     },
     "execution_count": 70,
     "metadata": {},
     "output_type": "execute_result"
    }
   ],
   "source": [
    "# one-hot encoding\n",
    "\n",
    "categorical_columns = ['Company','Place','Country','Gender']\n",
    "encoded_data = pd.get_dummies(Newdf,columns = categorical_columns)\n",
    "encoded_data\n"
   ]
  },
  {
   "cell_type": "code",
   "execution_count": 71,
   "id": "a02942d9",
   "metadata": {},
   "outputs": [
    {
     "name": "stderr",
     "output_type": "stream",
     "text": [
      "C:\\Users\\RAMSEENA\\AppData\\Local\\Temp\\ipykernel_21420\\2917256130.py:4: SettingWithCopyWarning: \n",
      "A value is trying to be set on a copy of a slice from a DataFrame.\n",
      "Try using .loc[row_indexer,col_indexer] = value instead\n",
      "\n",
      "See the caveats in the documentation: https://pandas.pydata.org/pandas-docs/stable/user_guide/indexing.html#returning-a-view-versus-a-copy\n",
      "  Newdf['Company_Encoded'] = label_encoder.fit_transform(Newdf['Company'])\n"
     ]
    },
    {
     "data": {
      "text/html": [
       "<div>\n",
       "<style scoped>\n",
       "    .dataframe tbody tr th:only-of-type {\n",
       "        vertical-align: middle;\n",
       "    }\n",
       "\n",
       "    .dataframe tbody tr th {\n",
       "        vertical-align: top;\n",
       "    }\n",
       "\n",
       "    .dataframe thead th {\n",
       "        text-align: right;\n",
       "    }\n",
       "</style>\n",
       "<table border=\"1\" class=\"dataframe\">\n",
       "  <thead>\n",
       "    <tr style=\"text-align: right;\">\n",
       "      <th></th>\n",
       "      <th>Company</th>\n",
       "      <th>Age</th>\n",
       "      <th>Salary</th>\n",
       "      <th>Place</th>\n",
       "      <th>Country</th>\n",
       "      <th>Gender</th>\n",
       "      <th>Company_Encoded</th>\n",
       "    </tr>\n",
       "  </thead>\n",
       "  <tbody>\n",
       "    <tr>\n",
       "      <th>0</th>\n",
       "      <td>TCS</td>\n",
       "      <td>20.0</td>\n",
       "      <td>5312.467742</td>\n",
       "      <td>Chennai</td>\n",
       "      <td>India</td>\n",
       "      <td>0</td>\n",
       "      <td>4</td>\n",
       "    </tr>\n",
       "    <tr>\n",
       "      <th>1</th>\n",
       "      <td>Infosys</td>\n",
       "      <td>30.0</td>\n",
       "      <td>5312.467742</td>\n",
       "      <td>Mumbai</td>\n",
       "      <td>India</td>\n",
       "      <td>0</td>\n",
       "      <td>2</td>\n",
       "    </tr>\n",
       "    <tr>\n",
       "      <th>2</th>\n",
       "      <td>TCS</td>\n",
       "      <td>35.0</td>\n",
       "      <td>2300.000000</td>\n",
       "      <td>Calcutta</td>\n",
       "      <td>India</td>\n",
       "      <td>0</td>\n",
       "      <td>4</td>\n",
       "    </tr>\n",
       "    <tr>\n",
       "      <th>3</th>\n",
       "      <td>Infosys</td>\n",
       "      <td>40.0</td>\n",
       "      <td>3000.000000</td>\n",
       "      <td>Delhi</td>\n",
       "      <td>India</td>\n",
       "      <td>0</td>\n",
       "      <td>2</td>\n",
       "    </tr>\n",
       "    <tr>\n",
       "      <th>4</th>\n",
       "      <td>TCS</td>\n",
       "      <td>23.0</td>\n",
       "      <td>4000.000000</td>\n",
       "      <td>Mumbai</td>\n",
       "      <td>India</td>\n",
       "      <td>0</td>\n",
       "      <td>4</td>\n",
       "    </tr>\n",
       "  </tbody>\n",
       "</table>\n",
       "</div>"
      ],
      "text/plain": [
       "   Company   Age       Salary     Place Country  Gender  Company_Encoded\n",
       "0      TCS  20.0  5312.467742   Chennai   India       0                4\n",
       "1  Infosys  30.0  5312.467742    Mumbai   India       0                2\n",
       "2      TCS  35.0  2300.000000  Calcutta   India       0                4\n",
       "3  Infosys  40.0  3000.000000     Delhi   India       0                2\n",
       "4      TCS  23.0  4000.000000    Mumbai   India       0                4"
      ]
     },
     "execution_count": 71,
     "metadata": {},
     "output_type": "execute_result"
    }
   ],
   "source": [
    "# Label encoding\n",
    "\n",
    "label_encoder = LabelEncoder()\n",
    "Newdf['Company_Encoded'] = label_encoder.fit_transform(Newdf['Company'])\n",
    "Newdf.head()"
   ]
  },
  {
   "cell_type": "markdown",
   "id": "e44aaf09",
   "metadata": {},
   "source": [
    "# Feature Scaling"
   ]
  },
  {
   "cell_type": "code",
   "execution_count": 76,
   "id": "a13d64f7",
   "metadata": {},
   "outputs": [
    {
     "data": {
      "text/plain": [
       "array([[-1.45774133e+00, -1.70026896e-03],\n",
       "       [-2.32349792e-01, -1.70026896e-03],\n",
       "       [ 3.80345977e-01, -1.28698556e+00],\n",
       "       [ 9.93041747e-01, -9.88326856e-01],\n",
       "       [-1.09012387e+00, -5.61671570e-01],\n",
       "       [-1.72965433e-01, -1.35016283e-01],\n",
       "       [-1.72965433e-01,  2.91639004e-01],\n",
       "       [-1.09012387e+00,  7.18294290e-01],\n",
       "       [ 2.57806823e-01,  1.14494958e+00],\n",
       "       [ 1.60573752e+00,  1.57160486e+00],\n",
       "       [-1.09012387e+00, -1.70026896e-03],\n",
       "       [ 2.57806823e-01, -1.80366511e+00],\n",
       "       [ 1.60573752e+00, -1.70026896e-03],\n",
       "       [-1.70281964e+00, -1.74180009e+00],\n",
       "       [ 9.93041747e-01, -9.88326856e-01],\n",
       "       [-1.09012387e+00, -9.88326856e-01],\n",
       "       [-1.09012387e+00, -9.75527198e-01],\n",
       "       [ 2.57806823e-01, -1.35016283e-01],\n",
       "       [-1.21266302e+00, -1.70026896e-03],\n",
       "       [ 1.27285157e-02, -1.70026896e-03],\n",
       "       [ 6.25424285e-01, -9.69127368e-01],\n",
       "       [ 2.21843329e+00, -9.09822283e-01],\n",
       "       [-1.33520218e+00, -2.10107613e-01],\n",
       "       [-1.72965433e-01,  2.21240881e-01],\n",
       "       [-1.72965433e-01,  7.54133334e-01],\n",
       "       [-1.09012387e+00,  1.54728551e+00],\n",
       "       [ 2.57806823e-01,  1.29214565e+00],\n",
       "       [ 1.60573752e+00,  1.69277496e+00],\n",
       "       [-1.09012387e+00,  1.94535489e+00],\n",
       "       [ 3.80345977e-01, -1.40047586e+00],\n",
       "       [ 1.72827667e+00,  9.97326848e-01],\n",
       "       [-1.45774133e+00, -1.01648611e+00],\n",
       "       [ 1.60573752e+00, -5.47165290e-01],\n",
       "       [ 5.02885131e-01, -1.20510003e-01],\n",
       "       [-7.22506408e-01,  1.23113394e+00],\n",
       "       [ 3.80345977e-01,  1.58184459e+00],\n",
       "       [ 1.27285157e-02, -1.70026896e-03],\n",
       "       [ 3.80345977e-01, -1.70026896e-03],\n",
       "       [ 2.57806823e-01, -1.28698556e+00],\n",
       "       [ 1.11558090e+00, -9.88326856e-01],\n",
       "       [-9.67584715e-01, -4.14475496e-01],\n",
       "       [-1.72965433e-01, -1.35016283e-01],\n",
       "       [-1.72965433e-01,  2.91639004e-01],\n",
       "       [-8.45045562e-01,  7.18294290e-01],\n",
       "       [ 3.80345977e-01,  1.14494958e+00],\n",
       "       [ 1.72827667e+00,  1.57160486e+00],\n",
       "       [-9.67584715e-01, -1.70026896e-03],\n",
       "       [ 1.27285157e-02, -1.80366511e+00],\n",
       "       [ 1.36065921e+00, -1.70026896e-03],\n",
       "       [-1.58028048e+00, -1.74180009e+00],\n",
       "       [ 1.11558090e+00, -9.88326856e-01],\n",
       "       [-9.67584715e-01, -9.88326856e-01],\n",
       "       [-1.33520218e+00, -9.75527198e-01],\n",
       "       [ 3.80345977e-01, -1.35016283e-01],\n",
       "       [-1.33520218e+00,  5.23739480e-01],\n",
       "       [ 1.27285157e-02,  9.97326848e-01],\n",
       "       [ 7.47963439e-01, -9.69127368e-01],\n",
       "       [ 2.34097244e+00, -9.09822283e-01],\n",
       "       [-1.09012387e+00, -2.10107613e-01],\n",
       "       [-1.72965433e-01,  2.21240881e-01],\n",
       "       [-1.72965433e-01,  7.54133334e-01],\n",
       "       [-8.45045562e-01,  1.54728551e+00],\n",
       "       [ 5.02885131e-01,  1.29214565e+00],\n",
       "       [ 1.11558090e+00,  1.69277496e+00],\n",
       "       [-8.45045562e-01,  5.23312824e-01],\n",
       "       [-1.09810638e-01, -1.40047586e+00],\n",
       "       [ 1.11558090e+00, -1.70026896e-03],\n",
       "       [-1.33520218e+00, -1.01648611e+00],\n",
       "       [ 1.36065921e+00, -5.47165290e-01],\n",
       "       [ 1.27285157e-02, -1.20510003e-01],\n",
       "       [-1.33520218e+00,  1.23113394e+00],\n",
       "       [ 2.57806823e-01,  1.58184459e+00],\n",
       "       [-9.67584715e-01, -1.70026896e-03],\n",
       "       [ 2.57806823e-01, -1.70026896e-03],\n",
       "       [ 6.25424285e-01, -1.28698556e+00],\n",
       "       [ 1.48319836e+00, -9.88326856e-01],\n",
       "       [ 1.27285157e-02, -5.61671570e-01],\n",
       "       [-1.72965433e-01, -1.35016283e-01],\n",
       "       [-1.72965433e-01,  2.91639004e-01],\n",
       "       [-7.22506408e-01,  7.18294290e-01],\n",
       "       [ 1.27285157e-02,  1.14494958e+00],\n",
       "       [ 1.36065921e+00,  1.57160486e+00],\n",
       "       [-1.21266302e+00, -1.70026896e-03],\n",
       "       [ 1.35267670e-01, -1.80366511e+00],\n",
       "       [ 1.11558090e+00, -9.88326856e-01],\n",
       "       [-1.33520218e+00, -9.88326856e-01],\n",
       "       [-1.72965433e-01, -9.75527198e-01],\n",
       "       [ 5.02885131e-01, -1.35016283e-01],\n",
       "       [-1.33520218e+00, -1.70026896e-03],\n",
       "       [ 2.57806823e-01, -1.70026896e-03],\n",
       "       [-1.72965433e-01, -9.69127368e-01],\n",
       "       [ 2.70858990e+00, -9.09822283e-01],\n",
       "       [-1.21266302e+00, -2.10107613e-01],\n",
       "       [-1.72965433e-01,  2.21240881e-01],\n",
       "       [-1.72965433e-01,  7.54133334e-01],\n",
       "       [-1.21266302e+00,  1.54728551e+00],\n",
       "       [ 1.35267670e-01,  1.29214565e+00],\n",
       "       [ 1.48319836e+00,  1.69277496e+00],\n",
       "       [-1.21266302e+00, -1.70026896e-03],\n",
       "       [-1.72965433e-01, -1.40047586e+00],\n",
       "       [ 1.48319836e+00, -1.70026896e-03],\n",
       "       [-1.21266302e+00, -1.01648611e+00],\n",
       "       [ 1.48319836e+00, -5.47165290e-01],\n",
       "       [ 1.35267670e-01, -1.20510003e-01],\n",
       "       [-1.21266302e+00,  1.23113394e+00],\n",
       "       [-1.72965433e-01,  1.58184459e+00],\n",
       "       [ 1.35267670e-01, -1.70026896e-03],\n",
       "       [ 1.35267670e-01, -1.70026896e-03],\n",
       "       [ 1.35267670e-01, -1.28698556e+00],\n",
       "       [-1.72965433e-01, -8.88489519e-01],\n",
       "       [-1.21266302e+00, -4.23435257e-01],\n",
       "       [-1.72965433e-01,  5.05787667e-02],\n",
       "       [-1.72965433e-01,  1.01777401e-01],\n",
       "       [-1.21266302e+00,  1.48072729e+00],\n",
       "       [ 1.35267670e-01,  1.48072729e+00],\n",
       "       [ 1.48319836e+00,  1.94535489e+00],\n",
       "       [-1.21266302e+00, -1.70026896e-03],\n",
       "       [ 1.35267670e-01, -1.80366511e+00],\n",
       "       [ 1.48319836e+00, -1.70026896e-03],\n",
       "       [-1.72965433e-01, -1.74180009e+00],\n",
       "       [ 1.48319836e+00, -8.88489519e-01],\n",
       "       [-1.72965433e-01, -7.94625356e-01],\n",
       "       [-1.21266302e+00,  1.48072729e+00],\n",
       "       [ 1.35267670e-01,  1.44016274e-01],\n",
       "       [-1.45774133e+00, -1.31176385e-01],\n",
       "       [-2.32349792e-01, -9.32040649e-02],\n",
       "       [ 1.35267670e-01, -9.69127368e-01],\n",
       "       [ 2.21843329e+00, -9.09822283e-01],\n",
       "       [-1.72965433e-01,  7.54133334e-01],\n",
       "       [-1.21266302e+00,  1.54728551e+00],\n",
       "       [-1.09810638e-01,  1.29214565e+00],\n",
       "       [ 9.93041747e-01,  1.69277496e+00],\n",
       "       [-1.72965433e-01, -1.70026896e-03],\n",
       "       [-1.09810638e-01, -1.40047586e+00],\n",
       "       [ 1.48319836e+00, -9.74247232e-01],\n",
       "       [-1.21266302e+00, -1.01648611e+00],\n",
       "       [ 1.48319836e+00, -5.47165290e-01],\n",
       "       [ 1.35267670e-01, -1.20510003e-01],\n",
       "       [-1.21266302e+00,  1.23113394e+00],\n",
       "       [ 1.35267670e-01,  1.58184459e+00],\n",
       "       [ 1.48319836e+00, -5.47165290e-01],\n",
       "       [ 1.35267670e-01, -1.20510003e-01],\n",
       "       [-1.21266302e+00,  1.23113394e+00]])"
      ]
     },
     "execution_count": 76,
     "metadata": {},
     "output_type": "execute_result"
    }
   ],
   "source": [
    "# StandardScaler\n",
    "\n",
    "num_columns = ['Age','Salary']\n",
    "scaler1 = StandardScaler()\n",
    "scaled1 = scaler1.fit_transform(encoded_data[num_columns])\n",
    "scaled1"
   ]
  },
  {
   "cell_type": "code",
   "execution_count": 78,
   "id": "691f0d34",
   "metadata": {},
   "outputs": [
    {
     "data": {
      "text/plain": [
       "array([[0.05555556, 0.48064957],\n",
       "       [0.33333333, 0.48064957],\n",
       "       [0.47222222, 0.13781723],\n",
       "       [0.61111111, 0.21748037],\n",
       "       [0.13888889, 0.33128485],\n",
       "       [0.34679487, 0.44508934],\n",
       "       [0.34679487, 0.55889382],\n",
       "       [0.13888889, 0.6726983 ],\n",
       "       [0.44444444, 0.78650279],\n",
       "       [0.75      , 0.90030727],\n",
       "       [0.13888889, 0.48064957],\n",
       "       [0.44444444, 0.        ],\n",
       "       [0.75      , 0.48064957],\n",
       "       [0.        , 0.01650165],\n",
       "       [0.61111111, 0.21748037],\n",
       "       [0.13888889, 0.21748037],\n",
       "       [0.13888889, 0.2208945 ],\n",
       "       [0.44444444, 0.44508934],\n",
       "       [0.11111111, 0.48064957],\n",
       "       [0.38888889, 0.48064957],\n",
       "       [0.52777778, 0.22260157],\n",
       "       [0.88888889, 0.23842039],\n",
       "       [0.08333333, 0.42505975],\n",
       "       [0.34679487, 0.54011608],\n",
       "       [0.34679487, 0.68225788],\n",
       "       [0.13888889, 0.89382042],\n",
       "       [0.44444444, 0.82576534],\n",
       "       [0.75      , 0.93262775],\n",
       "       [0.13888889, 1.        ],\n",
       "       [0.47222222, 0.10754524],\n",
       "       [0.77777778, 0.74712644],\n",
       "       [0.05555556, 0.20996927],\n",
       "       [0.75      , 0.33515421],\n",
       "       [0.5       , 0.44895869],\n",
       "       [0.22222222, 0.80949129],\n",
       "       [0.47222222, 0.90303858],\n",
       "       [0.38888889, 0.48064957],\n",
       "       [0.47222222, 0.48064957],\n",
       "       [0.44444444, 0.13781723],\n",
       "       [0.63888889, 0.21748037],\n",
       "       [0.16666667, 0.3705474 ],\n",
       "       [0.34679487, 0.44508934],\n",
       "       [0.34679487, 0.55889382],\n",
       "       [0.19444444, 0.6726983 ],\n",
       "       [0.47222222, 0.78650279],\n",
       "       [0.77777778, 0.90030727],\n",
       "       [0.16666667, 0.48064957],\n",
       "       [0.38888889, 0.        ],\n",
       "       [0.69444444, 0.48064957],\n",
       "       [0.02777778, 0.01650165],\n",
       "       [0.63888889, 0.21748037],\n",
       "       [0.16666667, 0.21748037],\n",
       "       [0.08333333, 0.2208945 ],\n",
       "       [0.47222222, 0.44508934],\n",
       "       [0.08333333, 0.62080346],\n",
       "       [0.38888889, 0.74712644],\n",
       "       [0.55555556, 0.22260157],\n",
       "       [0.91666667, 0.23842039],\n",
       "       [0.13888889, 0.42505975],\n",
       "       [0.34679487, 0.54011608],\n",
       "       [0.34679487, 0.68225788],\n",
       "       [0.19444444, 0.89382042],\n",
       "       [0.5       , 0.82576534],\n",
       "       [0.63888889, 0.93262775],\n",
       "       [0.19444444, 0.62068966],\n",
       "       [0.36111111, 0.10754524],\n",
       "       [0.63888889, 0.48064957],\n",
       "       [0.08333333, 0.20996927],\n",
       "       [0.69444444, 0.33515421],\n",
       "       [0.38888889, 0.44895869],\n",
       "       [0.08333333, 0.80949129],\n",
       "       [0.44444444, 0.90303858],\n",
       "       [0.16666667, 0.48064957],\n",
       "       [0.44444444, 0.48064957],\n",
       "       [0.52777778, 0.13781723],\n",
       "       [0.72222222, 0.21748037],\n",
       "       [0.38888889, 0.33128485],\n",
       "       [0.34679487, 0.44508934],\n",
       "       [0.34679487, 0.55889382],\n",
       "       [0.22222222, 0.6726983 ],\n",
       "       [0.38888889, 0.78650279],\n",
       "       [0.69444444, 0.90030727],\n",
       "       [0.11111111, 0.48064957],\n",
       "       [0.41666667, 0.        ],\n",
       "       [0.63888889, 0.21748037],\n",
       "       [0.08333333, 0.21748037],\n",
       "       [0.34679487, 0.2208945 ],\n",
       "       [0.5       , 0.44508934],\n",
       "       [0.08333333, 0.48064957],\n",
       "       [0.44444444, 0.48064957],\n",
       "       [0.34679487, 0.22260157],\n",
       "       [1.        , 0.23842039],\n",
       "       [0.11111111, 0.42505975],\n",
       "       [0.34679487, 0.54011608],\n",
       "       [0.34679487, 0.68225788],\n",
       "       [0.11111111, 0.89382042],\n",
       "       [0.41666667, 0.82576534],\n",
       "       [0.72222222, 0.93262775],\n",
       "       [0.11111111, 0.48064957],\n",
       "       [0.34679487, 0.10754524],\n",
       "       [0.72222222, 0.48064957],\n",
       "       [0.11111111, 0.20996927],\n",
       "       [0.72222222, 0.33515421],\n",
       "       [0.41666667, 0.44895869],\n",
       "       [0.11111111, 0.80949129],\n",
       "       [0.34679487, 0.90303858],\n",
       "       [0.41666667, 0.48064957],\n",
       "       [0.41666667, 0.48064957],\n",
       "       [0.41666667, 0.13781723],\n",
       "       [0.34679487, 0.24411062],\n",
       "       [0.11111111, 0.36815751],\n",
       "       [0.34679487, 0.49459429],\n",
       "       [0.34679487, 0.50825083],\n",
       "       [0.11111111, 0.87606692],\n",
       "       [0.41666667, 0.87606692],\n",
       "       [0.72222222, 1.        ],\n",
       "       [0.11111111, 0.48064957],\n",
       "       [0.41666667, 0.        ],\n",
       "       [0.72222222, 0.48064957],\n",
       "       [0.34679487, 0.01650165],\n",
       "       [0.72222222, 0.24411062],\n",
       "       [0.34679487, 0.2691476 ],\n",
       "       [0.11111111, 0.87606692],\n",
       "       [0.41666667, 0.51951747],\n",
       "       [0.05555556, 0.44611358],\n",
       "       [0.33333333, 0.45624218],\n",
       "       [0.41666667, 0.22260157],\n",
       "       [0.88888889, 0.23842039],\n",
       "       [0.34679487, 0.68225788],\n",
       "       [0.11111111, 0.89382042],\n",
       "       [0.36111111, 0.82576534],\n",
       "       [0.61111111, 0.93262775],\n",
       "       [0.34679487, 0.48064957],\n",
       "       [0.36111111, 0.10754524],\n",
       "       [0.72222222, 0.22123592],\n",
       "       [0.11111111, 0.20996927],\n",
       "       [0.72222222, 0.33515421],\n",
       "       [0.41666667, 0.44895869],\n",
       "       [0.11111111, 0.80949129],\n",
       "       [0.41666667, 0.90303858],\n",
       "       [0.72222222, 0.33515421],\n",
       "       [0.41666667, 0.44895869],\n",
       "       [0.11111111, 0.80949129]])"
      ]
     },
     "execution_count": 78,
     "metadata": {},
     "output_type": "execute_result"
    }
   ],
   "source": [
    "# MinMaxScaler\n",
    "\n",
    "scaler2 = MinMaxScaler()\n",
    "scaled2 = scaler2.fit_transform(encoded_data[num_columns])\n",
    "scaled2"
   ]
  },
  {
   "cell_type": "code",
   "execution_count": null,
   "id": "1b9ff060",
   "metadata": {},
   "outputs": [],
   "source": []
  }
 ],
 "metadata": {
  "kernelspec": {
   "display_name": "Python 3 (ipykernel)",
   "language": "python",
   "name": "python3"
  },
  "language_info": {
   "codemirror_mode": {
    "name": "ipython",
    "version": 3
   },
   "file_extension": ".py",
   "mimetype": "text/x-python",
   "name": "python",
   "nbconvert_exporter": "python",
   "pygments_lexer": "ipython3",
   "version": "3.11.1"
  }
 },
 "nbformat": 4,
 "nbformat_minor": 5
}
